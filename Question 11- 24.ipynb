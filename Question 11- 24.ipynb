{
 "cells": [
  {
   "cell_type": "markdown",
   "id": "36c8c359-8110-4984-8bf7-7a3e7b732f13",
   "metadata": {},
   "source": [
    "11 A company wants to test if a new website layout leads to a higher conversion rate (percentage of visitors\r\n",
    "who make a purchase). They collect data from the old and new layouts to compare.\r\n",
    "\r\n",
    "\r\n",
    "To generate the data use the following command:\r\n",
    "\r\n",
    "```python\r\n",
    "\r\n",
    "import numpy as np\r\n",
    "\r\n",
    "# 50 purchases out of 1000 visitors\r\n",
    "\r\n",
    "old_layout = np.array([1] * 50 + [0] * 950)\r\n",
    "\r\n",
    "# 70 purchases out of 1000 visitors  \r\n",
    "\r\n",
    "new_layout = np.array([1] * 70 + [0] * 930)\r\n",
    "\r\n",
    "  ```\r\n",
    "\r\n",
    "Apply z-test to find which layout is successful."
   ]
  },
  {
   "cell_type": "markdown",
   "id": "7026e0f9-1c84-4d34-b062-6454af30d6ca",
   "metadata": {},
   "source": [
    "Certainly, let's perform a z-test to compare the conversion rates of the old and new website layouts.\n",
    "\n",
    "**1. Define Hypotheses**\n",
    "\n",
    "* **Null Hypothesis (H0):** There is no significant difference in the conversion rates between the old and new layouts. \n",
    "    * Mathematically:  p1 - p2 = 0 \n",
    "* **Alternative Hypothesis (H1):** The new layout has a significantly higher conversion rate than the old layout.\n",
    "    * Mathematically: p1 - p2 < 0 \n",
    "    * (We use a one-tailed test since we're specifically interested in whether the new layout is *better*)\n",
    "\n",
    "**2. Calculate Sample Proportions**\n",
    "\n",
    "* **Old Layout:**\n",
    "    * p1 = number of conversions in old layout / total visitors in old layout = 50/1000 = 0.05\n",
    "* **New Layout:**\n",
    "    * p2 = number of conversions in new layout / total visitors in new layout = 70/1000 = 0.07\n",
    "\n",
    "**3. Calculate Pooled Proportion**\n",
    "\n",
    "* Pooled Proportion (p) = (number of conversions in old layout + number of conversions in new layout) / (total visitors in old layout + total visitors in new layout)\n",
    "    * p = (50 + 70) / (1000 + 1000) = 0.06\n",
    "\n",
    "**4. Calculate Standard Error**\n",
    "\n",
    "* Standard Error (SE) = sqrt(p * (1-p) * (1/n1 + 1/n2)) \n",
    "    * SE = sqrt(0.06 * 0.94 * (1/1000 + 1/1000)) \n",
    "    * SE = sqrt(0.0001128) \n",
    "    * SE ≈ 0.0106\n",
    "\n",
    "**5. Calculate Test Statistic (z-score)**\n",
    "\n",
    "* z = (p1 - p2) / SE\n",
    "    * z = (0.05 - 0.07) / 0.0106 \n",
    "    * z = -0.02 / 0.0106 \n",
    "    * z ≈ -1.89\n",
    "\n",
    "**6. Determine Critical Value**\n",
    "\n",
    "* Choose a significance level (alpha). Let's use alpha = 0.05.\n",
    "* Find the critical value for a one-tailed test at alpha = 0.05. \n",
    "    * Using a standard normal distribution table, the critical value is -1.645.\n",
    "\n",
    "**7. Make a Decision**\n",
    "\n",
    "* Since the calculated z-score (-1.89) is less than the critical value (-1.645), we **reject the null hypothesis**.\n",
    "\n",
    "**8. Conclusion**\n",
    "\n",
    "* There is sufficient evidence to suggest that the new website layout has a significantly higher conversion rate than the old layout at the 0.05 significance level.\n",
    "\n",
    "**In Summary:**\n",
    "\n",
    "The z-test results indicate that the new website layout is more successful in terms of conversion rates compared to the old layout.\n",
    "\n",
    "**Note:**\n",
    "\n",
    "* This analysis assumes that the samples are independent and that the conditions for using the z-test are met (e.g., large sample sizes, independent observations).\n",
    "\n",
    "I hope this helps! Let me know if you have any further questions.\n"
   ]
  },
  {
   "cell_type": "markdown",
   "id": "9f142d61-2e94-45b2-ae2d-8fc8c08b9dce",
   "metadata": {},
   "source": [
    "12 A tutoring service claims that its program improves students' exam scores. A sample of students who\r\n",
    "participated in the program was taken, and their scores before and after the program were recorded.\r\n",
    "\r\n",
    "\r\n",
    "Use the below code to generate samples of respective arrays of marks:\r\n",
    "\r\n",
    "```python\r\n",
    "\r\n",
    "before_program = np.array([75, 80, 85, 70, 90, 78, 92, 88, 82, 87])\r\n",
    "\r\n",
    "after_program = np.array([80, 85, 90, 80, 92, 80, 95, 90, 85, 88])\r\n",
    "\r\n",
    "```\r\n",
    "\r\n",
    "Use z-test to find if the claims made by tutor are true or false."
   ]
  },
  {
   "cell_type": "code",
   "execution_count": 9,
   "id": "aafda244-42df-415a-865a-fdb6ee0a1cca",
   "metadata": {},
   "outputs": [
    {
     "name": "stdout",
     "output_type": "stream",
     "text": [
      "[ 5  5  5 10  2  2  3  2  3  1]\n",
      "Mean of differences: 3.8\n",
      "Standard deviation of differences: 2.616188916046478\n",
      "Z-score: 4.593190894944668\n"
     ]
    }
   ],
   "source": [
    "import numpy as np\n",
    "\n",
    "before_program = np.array([75, 80, 85, 70, 90, 78, 92, 88, 82, 87])\n",
    "after_program = np.array([80, 85, 90, 80, 92, 80, 95, 90, 85, 88])\n",
    "\n",
    "differences = after_program - before_program\n",
    "print(differences)  # Output: [ 5  5  5 10  2  2  3  2  3  1]\n",
    "mean_diff = np.mean(differences) \n",
    "\n",
    "print(\"Mean of differences:\", mean_diff)  \n",
    "std_diff = np.std(differences, ddof=1)\n",
    "print(\"Standard deviation of differences:\", std_diff)  \n",
    "\n",
    "n = len(differences) \n",
    "z_score = mean_diff / (std_diff / np.sqrt(n)) \n",
    "print(\"Z-score:\", z_score)\n"
   ]
  },
  {
   "cell_type": "markdown",
   "id": "c02ed8de-1955-46d9-8a2d-1d52ccf6ce5a",
   "metadata": {},
   "source": [
    "13 A pharmaceutical company wants to determine if a new drug is effective in reducing blood pressure. They\n",
    "conduct a study and record blood pressure measurements before and after administering the drug.\r\n",
    "\r\n",
    "\r\n",
    "Use the below code to generate samples of respective arrays of blood pressue:\r\n",
    "\r\n",
    "\r\n",
    "```python\r\n",
    "\r\n",
    "before_drug = np.array([145, 150, 140, 135, 155, 160, 152, 148, 130, 138])\r\n",
    "\r\n",
    "after_drug = np.array([130, 140, 132, 128, 145, 148, 138, 136, 125, 10])\r\n",
    "\r\n",
    "  ```\r\n",
    "\r\n",
    "\r\n",
    "Implement z-test to find if the drug really works or not"
   ]
  },
  {
   "cell_type": "code",
   "execution_count": 13,
   "id": "f2e02ab6-7238-4d81-a804-8ec398953de5",
   "metadata": {},
   "outputs": [
    {
     "name": "stdout",
     "output_type": "stream",
     "text": [
      "Reject the null hypothesis. The drug appears to be effective in reducing blood pressure.\n"
     ]
    }
   ],
   "source": [
    "import numpy as np\r\n",
    "\r\n",
    "# Sample data\r\n",
    "before_drug = np.array([145, 150, 140, 135, 155, 160, 152, 148, 130, 138])\r\n",
    "after_drug = np.array([130, 140, 132, 128, 145, 148, 138, 136, 125, 130])\r\n",
    "\r\n",
    "# Calculate the difference in blood pressure for each individual\r\n",
    "differences = after_drug - before_drug\r\n",
    "\r\n",
    "# Calculate the mean and standard deviation of the differences\r\n",
    "mean_diff = np.mean(differences)\r\n",
    "std_diff = np.std(differences, ddof=1)  # ddof=1 for sample standard deviation\r\n",
    "\r\n",
    "# Calculate the z-score\r\n",
    "z_score = mean_diff / (std_diff / np.sqrt(len(differences)))\r\n",
    "\r\n",
    "# Define significance level (alpha)\r\n",
    "alpha = 0.05\r\n",
    "\r\n",
    "# Determine critical value for a one-tailed test (we expect blood pressure to decrease)\r\n",
    "critical_value = -1.645  # For alpha = 0.05\r\n",
    "\r\n",
    "# Make a decision\r\n",
    "if z_score < critical_value:\r\n",
    "    print(\"Reject the null hypothesis. The drug appears to be effective in reducing blood pressure.\")\r\n",
    "else:\r\n",
    "    print(\"Fail to reject the null hypothesis. There is no significant evidence that the drug reduces blood pressure.\")"
   ]
  },
  {
   "cell_type": "markdown",
   "id": "6dcdec51-c43a-475b-b1bd-08b4fcf8c58f",
   "metadata": {},
   "source": [
    "14 A customer service department claims that their average response time is less than 5 minutes. A sample\r\n",
    "of recent customer interactions was taken, and the response times were recorded.\r\n",
    "\r\n",
    "\r\n",
    "Implement the below code to generate the array of response time:\r\n",
    "\r\n",
    "```python\r\n",
    "\r\n",
    "response_times = np.array([4.3, 3.8, 5.1, 4.9, 4.7, 4.2, 5.2, 4.5, 4.6, 4.4])\r\n",
    "\r\n",
    "```\r\n",
    "\r\n",
    "Implement z-test to find the claims made by customer service department are tru or false."
   ]
  },
  {
   "cell_type": "code",
   "execution_count": 16,
   "id": "0f70a792-19b8-4e24-a8a0-610fe6779e08",
   "metadata": {},
   "outputs": [
    {
     "name": "stdout",
     "output_type": "stream",
     "text": [
      "Reject the null hypothesis. The average response time is significantly less than 5 minutes.\n"
     ]
    }
   ],
   "source": [
    "import numpy as np\n",
    "\n",
    "# Sample data\n",
    "response_times = np.array([4.3, 3.8, 5.1, 4.9, 4.7, 4.2, 5.2, 4.5, 4.6, 4.4])\n",
    "\n",
    "# Calculate sample mean and standard deviation\n",
    "sample_mean = np.mean(response_times)\n",
    "sample_std = np.std(response_times, ddof=1)  # ddof=1 for sample standard deviation\n",
    "\n",
    "# Define hypothesized population mean (5 minutes)\n",
    "population_mean = 5\n",
    "\n",
    "# Calculate z-score\n",
    "z_score = (sample_mean - population_mean) / (sample_std / np.sqrt(len(response_times)))\n",
    "\n",
    "# Define significance level (alpha)\n",
    "alpha = 0.05\n",
    "\n",
    "# Determine critical value for a one-tailed test (we expect the mean to be less than 5 minutes)\n",
    "critical_value = -1.645  # For alpha = 0.05\n",
    "\n",
    "# Make a decision\n",
    "if z_score < critical_value:\n",
    "    print(\"Reject the null hypothesis. The average response time is significantly less than 5 minutes.\")\n",
    "else:\n",
    "    print(\"Fail to reject the null hypothesis. There is no significant evidence that the average response time is less than 5 minutes.\")"
   ]
  },
  {
   "cell_type": "markdown",
   "id": "5c14287f-4fd8-4e26-ad0e-f9c2a3df2f45",
   "metadata": {},
   "source": [
    "15 A company is testing two different website layouts to see which one leads to higher click-through rates.\r\n",
    "Write a Python function to perform an A/B test analysis, including calculating the t-statistic, degrees of\r\n",
    "freedom, and p-value.\r\n",
    "\r\n",
    "\r\n",
    "Use the following data:\r\n",
    "\r\n",
    "```python\r\n",
    "\r\n",
    "layout_a_clicks = [28, 32, 33, 29, 31, 34, 30, 35, 36, 37]\r\n",
    "\r\n",
    "layout_b_clicks = [40, 41, 38, 42, 39, 44, 43, 41, 45, 47]"
   ]
  },
  {
   "cell_type": "markdown",
   "id": "9da9969c-8a4e-4b60-bd56-ce4d1a862164",
   "metadata": {},
   "source": [
    "15 A company is testing two different website layouts to see which one leads to higher click-through rates.\r\n",
    "Write a Python function to perform an A/B test analysis, including calculating the t-statistic, degrees of\r\n",
    "freedom, and p-value.\r\n",
    "\r\n",
    "\r\n",
    "Use the following data:\r\n",
    "\r\n",
    "```python\r\n",
    "\r\n",
    "layout_a_clicks = [28, 32, 33, 29, 31, 34, 30, 35, 36, 37]\r\n",
    "\r\n",
    "layout_b_clicks = [40, 41, 38, 42, 39, 44, 43, 41, 45, 47]"
   ]
  },
  {
   "cell_type": "code",
   "execution_count": 20,
   "id": "9a31a17e-d64e-4ec5-a3b6-35e6e634b921",
   "metadata": {},
   "outputs": [
    {
     "name": "stdout",
     "output_type": "stream",
     "text": [
      "t-statistic: -7.298102156175071\n",
      "Degrees of Freedom: 18\n",
      "p-value: 8.833437608301987e-07\n",
      "Reject the null hypothesis. There is a statistically significant difference in click-through rates between the two layouts.\n"
     ]
    }
   ],
   "source": [
    "import numpy as np\n",
    "from scipy.stats import ttest_ind\n",
    "\n",
    "def a_b_test_analysis(layout_a_clicks, layout_b_clicks):\n",
    "  \"\"\"\n",
    "  Performs an A/B test analysis to compare click-through rates of two website layouts.\n",
    "\n",
    "  Args:\n",
    "    layout_a_clicks: List of click-through rates for layout A.\n",
    "    layout_b_clicks: List of click-through rates for layout B.\n",
    "\n",
    "  Returns:\n",
    "    A tuple containing:\n",
    "      - t-statistic: The calculated t-statistic.\n",
    "      - df: Degrees of freedom.\n",
    "      - p_value: The p-value.\n",
    "  \"\"\"\n",
    "\n",
    "  t_statistic, p_value = ttest_ind(layout_a_clicks, layout_b_clicks)\n",
    "  df = len(layout_a_clicks) + len(layout_b_clicks) - 2 \n",
    "  return t_statistic, df, p_value\n",
    "\n",
    "# Example usage\n",
    "layout_a_clicks = [28, 32, 33, 29, 31, 34, 30, 35, 36, 37]\n",
    "layout_b_clicks = [40, 41, 38, 42, 39, 44, 43, 41, 45, 47]\n",
    "\n",
    "t_stat, df, p_value = a_b_test_analysis(layout_a_clicks, layout_b_clicks)\n",
    "\n",
    "print(\"t-statistic:\", t_stat)\n",
    "print(\"Degrees of Freedom:\", df)\n",
    "print(\"p-value:\", p_value)\n",
    "\n",
    "if p_value < 0.05:\n",
    "  print(\"Reject the null hypothesis. There is a statistically significant difference in click-through rates between the two layouts.\")\n",
    "else:\n",
    "  print(\"Fail to reject the null hypothesis. There is no statistically significant difference in click-through rates.\")"
   ]
  },
  {
   "cell_type": "markdown",
   "id": "7962076b-f8f1-49f6-98e2-a5aac0f920cf",
   "metadata": {},
   "source": [
    "16 A pharmaceutical company wants to determine if a new drug is more effective than an existing drug in\r\n",
    "reducing cholesterol levels. Create a program to analyze the clinical trial data and calculate the tstatistic and p-value for the treatment effect.\r\n",
    "\r\n",
    "\r\n",
    "Use the following data of cholestrol level:\r\n",
    "\r\n",
    "```python\r\n",
    "\r\n",
    "existing_drug_levels = [180, 182, 175, 185, 178, 176, 172, 184, 179, 183]\r\n",
    "\r\n",
    "new_drug_levels = [170, 172, 165, 168, 175, 173, 170, 178, 172, 176]"
   ]
  },
  {
   "cell_type": "markdown",
   "id": "9630e22a-5ed9-4d17-a67f-8a6203d4b946",
   "metadata": {},
   "source": [
    "16 A pharmaceutical company wants to determine if a new drug is more effective than an existing drug in\r\n",
    "reducing cholesterol levels. Create a program to analyze the clinical trial data and calculate the tstatistic and p-value for the treatment effect.\r\n",
    "\r\n",
    "\r\n",
    "Use the following data of cholestrol level:\r\n",
    "\r\n",
    "```python\r\n",
    "\r\n",
    "existing_drug_levels = [180, 182, 175, 185, 178, 176, 172, 184, 179, 183]\r\n",
    "\r\n",
    "new_drug_levels = [170, 172, 165, 168, 175, 173, 170, 178, 172, 176]"
   ]
  },
  {
   "cell_type": "code",
   "execution_count": 24,
   "id": "2965c77a-392f-4248-938c-21324d725ec6",
   "metadata": {},
   "outputs": [
    {
     "name": "stdout",
     "output_type": "stream",
     "text": [
      "t-statistic: 4.14048098620866\n",
      "p-value: 0.0006143398442372505\n",
      "The new drug appears to be significantly more effective in reducing cholesterol levels.\n"
     ]
    }
   ],
   "source": [
    "import numpy as np\n",
    "from scipy.stats import ttest_ind\n",
    "\n",
    "# Sample data (replace with actual clinical trial data)\n",
    "existing_drug_levels = np.array([180, 182, 175, 185, 178, 176, 172, 184, 179, 183])\n",
    "new_drug_levels = np.array([170, 172, 165, 168, 175, 173, 170, 178, 172, 176])\n",
    "\n",
    "# Perform independent samples t-test\n",
    "t_statistic, p_value = ttest_ind(existing_drug_levels, new_drug_levels)\n",
    "\n",
    "# Print results\n",
    "print(\"t-statistic:\", t_statistic)\n",
    "print(\"p-value:\", p_value)\n",
    "\n",
    "# Interpretation\n",
    "if p_value < 0.05:  # Assuming a significance level of 0.05\n",
    "    print(\"The new drug appears to be significantly more effective in reducing cholesterol levels.\")\n",
    "else:\n",
    "    print(\"There is no significant difference in cholesterol reduction between the two drugs.\")"
   ]
  },
  {
   "cell_type": "markdown",
   "id": "207d8251-f5a3-4d3f-9fd3-8dce8422992d",
   "metadata": {},
   "source": [
    "17 A school district introduc1es an educational intervention program to improve math scores. Write a Python\r\n",
    "function to analyze pre- and post-intervention test scores, calculating the t-statistic and p-value to\r\n",
    "determine if the intervention had a significant impact.\r\n",
    "\r\n",
    "\r\n",
    "Use the following data of test score:\r\n",
    "\r\n",
    "\r\n",
    "  ```python\r\n",
    "\r\n",
    "  pre_intervention_scores = [80, 85, 90, 75, 88, 82, 92, 78, 85, 87]\r\n",
    "\r\n",
    "  post_intervention_scores = [90, 92, 88, 92, 95, 91, 96, 93, 89, 93]"
   ]
  },
  {
   "cell_type": "code",
   "execution_count": 27,
   "id": "4094376f-ce07-4ca1-bd82-e566c2437c9f",
   "metadata": {},
   "outputs": [
    {
     "name": "stdout",
     "output_type": "stream",
     "text": [
      "t-statistic: -4.42840883965761\n",
      "p-value: 0.0016509548165795493\n",
      "The intervention appears to have a significant impact on improving math scores.\n"
     ]
    }
   ],
   "source": [
    "import numpy as np\n",
    "from scipy.stats import ttest_rel\n",
    "\n",
    "def analyze_intervention(pre_scores, post_scores):\n",
    "  \"\"\"\n",
    "  Analyzes pre- and post-intervention test scores to determine \n",
    "  if the intervention had a significant impact.\n",
    "\n",
    "  Args:\n",
    "    pre_scores: List of pre-intervention test scores.\n",
    "    post_scores: List of post-intervention test scores.\n",
    "\n",
    "  Returns:\n",
    "    A tuple containing:\n",
    "      - t_statistic: The calculated t-statistic.\n",
    "      - p_value: The p-value.\n",
    "  \"\"\"\n",
    "\n",
    "  t_statistic, p_value = ttest_rel(pre_scores, post_scores)\n",
    "  return t_statistic, p_value\n",
    "\n",
    "# Example usage\n",
    "pre_intervention_scores = [80, 85, 90, 75, 88, 82, 92, 78, 85, 87]\n",
    "post_intervention_scores = [90, 92, 88, 92, 95, 91, 96, 93, 89, 93]\n",
    "\n",
    "t_stat, p_value = analyze_intervention(pre_intervention_scores, post_intervention_scores)\n",
    "\n",
    "print(\"t-statistic:\", t_stat)\n",
    "print(\"p-value:\", p_value)\n",
    "\n",
    "if p_value < 0.05:  # Assuming a significance level of 0.05\n",
    "  print(\"The intervention appears to have a significant impact on improving math scores.\")\n",
    "else:\n",
    "  print(\"There is no significant evidence that the intervention improved math scores.\")"
   ]
  },
  {
   "cell_type": "markdown",
   "id": "fe4f3a39-37bc-4736-a177-0c728fe894e8",
   "metadata": {},
   "source": [
    "18 An HR department wants to investigate if there's a gender-based salary gap within the company. Develop\r\n",
    "a program to analyze salary data, calculate the t-statistic, and determine if there's a statistically\r\n",
    "significant difference between the average salaries of male and female employees.\r\n",
    "\r\n",
    "\r\n",
    "Use the below code to generate synthetic data:\r\n",
    "\r\n",
    "\r\n",
    "```python\r\n",
    "\r\n",
    "# Generate synthetic salary data for male and female employees\r\n",
    "\r\n",
    "np.random.seed(0)  # For reproducibility\r\n",
    "\r\n",
    "male_salaries = np.random.normal(loc=50000, scale=10000, size=20)\r\n",
    "\r\n",
    "female_salaries = np.random.normal(loc=55000, scale=9000, size=20)\r\n",
    "\r\n",
    "  ```\r\n",
    "\r"
   ]
  },
  {
   "cell_type": "code",
   "execution_count": 30,
   "id": "c1f67b2a-132c-4410-8c18-a0571a214533",
   "metadata": {},
   "outputs": [
    {
     "name": "stdout",
     "output_type": "stream",
     "text": [
      "t-statistic: 0.06114208969631383\n",
      "p-value: 0.9515665020676465\n",
      "There is no statistically significant evidence of a gender-based salary gap.\n"
     ]
    }
   ],
   "source": [
    "import numpy as np\n",
    "from scipy.stats import ttest_ind\n",
    "\n",
    "# Generate synthetic salary data for male and female employees\n",
    "np.random.seed(0)  # For reproducibility\n",
    "male_salaries = np.random.normal(loc=50000, scale=10000, size=20)\n",
    "female_salaries = np.random.normal(loc=55000, scale=9000, size=20)\n",
    "\n",
    "# Perform independent samples t-test\n",
    "t_statistic, p_value = ttest_ind(male_salaries, female_salaries)\n",
    "\n",
    "# Print results\n",
    "print(\"t-statistic:\", t_statistic)\n",
    "print(\"p-value:\", p_value)\n",
    "\n",
    "# Interpretation\n",
    "if p_value < 0.05:  # Assuming a significance level of 0.05\n",
    "    print(\"There is a statistically significant difference in average salaries between male and female employees.\")\n",
    "else:\n",
    "    print(\"There is no statistically significant evidence of a gender-based salary gap.\")"
   ]
  },
  {
   "cell_type": "markdown",
   "id": "20dd3e46-3d53-47a4-ad03-236f146fff7a",
   "metadata": {},
   "source": [
    "19 A manufacturer produces two different versions of a product and wants to compare their quality scores.\n",
    "Create a Python function to analyze quality assessment data, calculate the t-statistic, and decide\n",
    "whether there's a significant difference in quality between the two versions.\n",
    "Use the following data:\n",
    "```python\n",
    "\n",
    "version1_scores = [85, 88, 82, 89, 87, 84, 90, 88, 85, 86, 91, 83, 87, 84, 89, 86, 84, 88, 85, 86, 89, 90, 87, 88, 85]\n",
    "\n",
    "version2_scores = [80, 78, 83, 81, 79, 82, 76, 80, 78, 81, 77, 82, 80, 79, 82, 79, 80, 81, 79, 82, 79, 78, 80, 81, 82]"
   ]
  },
  {
   "cell_type": "code",
   "execution_count": 35,
   "id": "602aa56b-d612-453f-aa8e-f414673114b9",
   "metadata": {},
   "outputs": [
    {
     "name": "stdout",
     "output_type": "stream",
     "text": [
      "t-statistic: 11.325830417646698\n",
      "p-value: 3.6824250702873965e-15\n",
      "There is a statistically significant difference in quality between the two product versions.\n"
     ]
    }
   ],
   "source": [
    "import numpy as np\n",
    "from scipy.stats import ttest_ind\n",
    "\n",
    "def compare_product_versions(version1_scores, version2_scores):\n",
    "  \"\"\"\n",
    "  Analyzes quality assessment data for two product versions and \n",
    "  determines if there's a significant difference in quality.\n",
    "\n",
    "  Args:\n",
    "    version1_scores: List of quality scores for version 1.\n",
    "    version2_scores: List of quality scores for version 2.\n",
    "\n",
    "  Returns:\n",
    "    A tuple containing:\n",
    "      - t_statistic: The calculated t-statistic.\n",
    "      - p_value: The p-value.\n",
    "  \"\"\"\n",
    "\n",
    "  t_statistic, p_value = ttest_ind(version1_scores, version2_scores)\n",
    "  return t_statistic, p_value\n",
    "\n",
    "# Example usage\n",
    "version1_scores = [85, 88, 82, 89, 87, 84, 90, 88, 85, 86, 91, 83, 87, 84, 89, 86, 84, 88, 85, 86, 89, 90, 87, 88, 85]\n",
    "version2_scores = [80, 78, 83, 81, 79, 82, 76, 80, 78, 81, 77, 82, 80, 79, 82, 79, 80, 81, 79, 82, 79, 78, 80, 81, 82]\n",
    "\n",
    "t_stat, p_value = compare_product_versions(version1_scores, version2_scores)\n",
    "\n",
    "print(\"t-statistic:\", t_stat)\n",
    "print(\"p-value:\", p_value)\n",
    "\n",
    "if p_value < 0.05:  # Assuming a significance level of 0.05\n",
    "  print(\"There is a statistically significant difference in quality between the two product versions.\")\n",
    "else:\n",
    "  print(\"There is no statistically significant difference in quality between the two product versions.\")"
   ]
  },
  {
   "cell_type": "markdown",
   "id": "b1e239ff-fa80-423b-84de-b1ec32c83977",
   "metadata": {},
   "source": [
    "20 A restaurant chain collects customer satisfaction scores for two different branches. Write a program to\r\n",
    "analyze the scores, calculate the t-statistic, and determine if there's a statistically significant difference in\r\n",
    "customer satisfaction between the branches.\r\n",
    "\r\n",
    "\r\n",
    "Use the below data of scores:\r\n",
    "\r\n",
    "  ```python\r\n",
    "\r\n",
    "branch_a_scores = [4, 5, 3, 4, 5, 4, 5, 3, 4, 4, 5, 4, 4, 3, 4, 5, 5, 4, 3, 4, 5, 4, 3, 5, 4, 4, 5, 3, 4, 5, 4]\r\n",
    "\r\n",
    "branch_b_scores = [3, 4, 2, 3, 4, 3, 4, 2, 3, 3, 4, 3, 3, 2, 3, 4, 4, 3, 2, 3, 4, 3, 2, 4, 3, 3, 4, 2, 3, 4, 3]"
   ]
  },
  {
   "cell_type": "code",
   "execution_count": 38,
   "id": "331844e6-4729-4ee9-8b20-e5a53da5bf65",
   "metadata": {},
   "outputs": [
    {
     "name": "stdout",
     "output_type": "stream",
     "text": [
      "t-statistic: 5.480077554195743\n",
      "p-value: 8.895290509945655e-07\n",
      "There is a statistically significant difference in customer satisfaction between the two branches.\n"
     ]
    }
   ],
   "source": [
    "import numpy as np\n",
    "from scipy.stats import ttest_ind\n",
    "\n",
    "def compare_branch_satisfaction(branch_a_scores, branch_b_scores):\n",
    "  \"\"\"\n",
    "  Analyzes customer satisfaction scores for two restaurant branches \n",
    "  and determines if there's a statistically significant difference.\n",
    "\n",
    "  Args:\n",
    "    branch_a_scores: List of customer satisfaction scores for branch A.\n",
    "    branch_b_scores: List of customer satisfaction scores for branch B.\n",
    "\n",
    "  Returns:\n",
    "    A tuple containing:\n",
    "      - t_statistic: The calculated t-statistic.\n",
    "      - p_value: The p-value.\n",
    "  \"\"\"\n",
    "\n",
    "  t_statistic, p_value = ttest_ind(branch_a_scores, branch_b_scores)\n",
    "  return t_statistic, p_value\n",
    "\n",
    "# Example usage\n",
    "branch_a_scores = [4, 5, 3, 4, 5, 4, 5, 3, 4, 4, 5, 4, 4, 3, 4, 5, 5, 4, 3, 4, 5, 4, 3, 5, 4, 4, 5, 3, 4, 5, 4]\n",
    "branch_b_scores = [3, 4, 2, 3, 4, 3, 4, 2, 3, 3, 4, 3, 3, 2, 3, 4, 4, 3, 2, 3, 4, 3, 2, 4, 3, 3, 4, 2, 3, 4, 3]\n",
    "\n",
    "t_stat, p_value = compare_branch_satisfaction(branch_a_scores, branch_b_scores)\n",
    "\n",
    "print(\"t-statistic:\", t_stat)\n",
    "print(\"p-value:\", p_value)\n",
    "\n",
    "if p_value < 0.05:  # Assuming a significance level of 0.05\n",
    "  print(\"There is a statistically significant difference in customer satisfaction between the two branches.\")\n",
    "else:\n",
    "  print(\"There is no statistically significant difference in customer satisfaction between the two branches.\")"
   ]
  },
  {
   "cell_type": "markdown",
   "id": "e5894305-f6ab-45ca-bbd8-b6d97b26db0b",
   "metadata": {},
   "source": [
    "20 A political analyst wants to determine if there is a significant association between age groups and voter\r\n",
    "preferences (Candidate A or Candidate B). They collect data from a sample of 500 voters and classify\r\n",
    "them into different age groups and candidate preferences. Perform a Chi-Square test to determine if\r\n",
    "there is a significant association between age groups and voter preferences.\r\n",
    "\r\n",
    "\r\n",
    "Use the below code to generate data:\r\n",
    "\r\n",
    "```python\r\n",
    "\r\n",
    "np.random.seed(0)\r\n",
    "\r\n",
    "age_groups = np.random.choice([ 18 30 , 31 50 , 51+', 51+'], size=30)\r\n",
    "\r\n",
    "voter_preferences = np.random.choice(['Candidate A', 'Candidate B'], size=30)"
   ]
  },
  {
   "cell_type": "code",
   "execution_count": 41,
   "id": "f9cc19d7-bf0b-4271-813e-860aa1fcb4be",
   "metadata": {},
   "outputs": [
    {
     "name": "stdout",
     "output_type": "stream",
     "text": [
      "Chi-Square Statistic: 0.8779923945254768\n",
      "p-value: 0.6446832311860852\n",
      "Degrees of Freedom: 2\n",
      "Expected Frequencies:\n",
      " [[96.824 85.176]\n",
      " [89.908 79.092]\n",
      " [79.268 69.732]]\n",
      "There is no statistically significant association between age groups and voter preferences.\n"
     ]
    }
   ],
   "source": [
    "import numpy as np\n",
    "import pandas as pd\n",
    "from scipy.stats import chi2_contingency\n",
    "\n",
    "# Generate synthetic data (replace with actual data)\n",
    "np.random.seed(0) \n",
    "age_groups = np.random.choice(['18-30', '31-50', '51+'], size=500) \n",
    "voter_preferences = np.random.choice(['Candidate A', 'Candidate B'], size=500)\n",
    "\n",
    "# Create a DataFrame for easier manipulation\n",
    "data = pd.DataFrame({'Age Group': age_groups, 'Voter Preference': voter_preferences})\n",
    "\n",
    "# Create a contingency table\n",
    "contingency_table = pd.crosstab(data['Age Group'], data['Voter Preference'])\n",
    "\n",
    "# Perform Chi-Square test\n",
    "chi2_stat, p_value, dof, expected = chi2_contingency(contingency_table)\n",
    "\n",
    "# Print results\n",
    "print(\"Chi-Square Statistic:\", chi2_stat)\n",
    "print(\"p-value:\", p_value)\n",
    "print(\"Degrees of Freedom:\", dof)\n",
    "print(\"Expected Frequencies:\\n\", expected)\n",
    "\n",
    "# Interpretation\n",
    "if p_value < 0.05:  # Assuming a significance level of 0.05\n",
    "    print(\"There is a statistically significant association between age groups and voter preferences.\")\n",
    "else:\n",
    "    print(\"There is no statistically significant association between age groups and voter preferences.\")"
   ]
  },
  {
   "cell_type": "markdown",
   "id": "aae4981a-3cc0-4ec9-8ee2-a0a8fe257ae0",
   "metadata": {},
   "source": [
    "22  A company conducted a customer satisfaction survey to determine if there is a significant relationship\r\n",
    "between product satisfaction levels (Satisfied, Neutral, Dissatisfied) and the region where customers are\r\n",
    "located (East, West, North, South). The survey data is summarized in a contingency table. Conduct a ChiSquare test to determine if there is a significant relationship between product satisfaction levels and\r\n",
    "customer regions.\r\n",
    "\r\n",
    "\r\n",
    "Sample data:\r\n",
    "\r\n",
    "```python\r\n",
    "\r\n",
    "#Sample data: Product satisfaction levels (rows) vs. Customer regions (columns)\r\n",
    "\r\n",
    "data = np.array([[50, 30, 40, 20], [30, 40, 30, 50], [20, 30, 40, 30]])"
   ]
  },
  {
   "cell_type": "code",
   "execution_count": 44,
   "id": "63d186f7-9825-4f48-b3e5-d9c696d6e5c9",
   "metadata": {},
   "outputs": [
    {
     "name": "stdout",
     "output_type": "stream",
     "text": [
      "Chi-Square Statistic: 27.777056277056275\n",
      "p-value: 0.00010349448486004387\n",
      "Degrees of Freedom: 6\n",
      "Expected Frequencies:\n",
      " [[34.14634146 34.14634146 37.56097561 34.14634146]\n",
      " [36.58536585 36.58536585 40.24390244 36.58536585]\n",
      " [29.26829268 29.26829268 32.19512195 29.26829268]]\n",
      "There is a statistically significant relationship between product satisfaction levels and customer regions.\n"
     ]
    }
   ],
   "source": [
    "import numpy as np\n",
    "from scipy.stats import chi2_contingency\n",
    "\n",
    "# Sample data: Product satisfaction levels (rows) vs. Customer regions (columns)\n",
    "data = np.array([[50, 30, 40, 20], \n",
    "                 [30, 40, 30, 50], \n",
    "                 [20, 30, 40, 30]])\n",
    "\n",
    "# Perform Chi-Square test\n",
    "chi2_stat, p_value, dof, expected = chi2_contingency(data)\n",
    "\n",
    "# Print results\n",
    "print(\"Chi-Square Statistic:\", chi2_stat)\n",
    "print(\"p-value:\", p_value)\n",
    "print(\"Degrees of Freedom:\", dof)\n",
    "print(\"Expected Frequencies:\\n\", expected)\n",
    "\n",
    "# Interpretation\n",
    "if p_value < 0.05:  # Assuming a significance level of 0.05\n",
    "    print(\"There is a statistically significant relationship between product satisfaction levels and customer regions.\")\n",
    "else:\n",
    "    print(\"There is no statistically significant relationship between product satisfaction levels and customer regions.\")"
   ]
  },
  {
   "cell_type": "markdown",
   "id": "a38906c5-2ee3-47a8-8d3b-0073abe376cd",
   "metadata": {},
   "source": [
    "23 A company implemented an employee training program to improve job performance (Effective, Neutral,\n",
    "Ineffective). After the training, they collected data from a sample of employees and classified them based\n",
    "on their job performance before and after the training. Perform a Chi-Square test to determine if there is a\n",
    "significant difference between job performance levels before and after the training.\n",
    "\n",
    "\n",
    "Sample data:\n",
    "\n",
    "```python\n",
    "\n",
    "# Sample data: Job performance levels before (rows) and after (columns) training\n",
    "\n",
    "data = np.array([[50, 30, 20], [30, 40, 30], [20, 30, 40]])"
   ]
  },
  {
   "cell_type": "code",
   "execution_count": 47,
   "id": "2b5e1d77-4b08-45b0-9bb1-5e1907eef8e2",
   "metadata": {},
   "outputs": [
    {
     "name": "stdout",
     "output_type": "stream",
     "text": [
      "Chi-Square Statistic: 22.161728395061726\n",
      "p-value: 0.00018609719479882557\n",
      "Degrees of Freedom: 4\n",
      "Expected Frequencies:\n",
      " [[34.48275862 34.48275862 31.03448276]\n",
      " [34.48275862 34.48275862 31.03448276]\n",
      " [31.03448276 31.03448276 27.93103448]]\n",
      "There is a statistically significant difference in job performance levels before and after the training.\n"
     ]
    }
   ],
   "source": [
    "import numpy as np\n",
    "from scipy.stats import chi2_contingency\n",
    "\n",
    "# Sample data: Job performance levels before (rows) and after (columns) training\n",
    "data = np.array([[50, 30, 20], \n",
    "                 [30, 40, 30], \n",
    "                 [20, 30, 40]])\n",
    "\n",
    "# Perform Chi-Square test\n",
    "chi2_stat, p_value, dof, expected = chi2_contingency(data)\n",
    "\n",
    "# Print results\n",
    "print(\"Chi-Square Statistic:\", chi2_stat)\n",
    "print(\"p-value:\", p_value)\n",
    "print(\"Degrees of Freedom:\", dof)\n",
    "print(\"Expected Frequencies:\\n\", expected)\n",
    "\n",
    "# Interpretation\n",
    "if p_value < 0.05:  # Assuming a significance level of 0.05\n",
    "    print(\"There is a statistically significant difference in job performance levels before and after the training.\")\n",
    "else:\n",
    "    print(\"There is no statistically significant difference in job performance levels before and after the training.\")"
   ]
  },
  {
   "cell_type": "code",
   "execution_count": null,
   "id": "ea89cac8-d0cc-47ad-b6a6-d32c318fd6f5",
   "metadata": {},
   "outputs": [],
   "source": []
  }
 ],
 "metadata": {
  "kernelspec": {
   "display_name": "Python 3 (ipykernel)",
   "language": "python",
   "name": "python3"
  },
  "language_info": {
   "codemirror_mode": {
    "name": "ipython",
    "version": 3
   },
   "file_extension": ".py",
   "mimetype": "text/x-python",
   "name": "python",
   "nbconvert_exporter": "python",
   "pygments_lexer": "ipython3",
   "version": "3.12.4"
  }
 },
 "nbformat": 4,
 "nbformat_minor": 5
}
